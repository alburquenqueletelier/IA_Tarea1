{
 "cells": [
  {
   "cell_type": "code",
   "execution_count": 3,
   "id": "da79e4a9",
   "metadata": {},
   "outputs": [
    {
     "name": "stdout",
     "output_type": "stream",
     "text": [
      "Collecting matplotlib\n",
      "  Using cached matplotlib-3.10.5-cp313-cp313-manylinux2014_x86_64.manylinux_2_17_x86_64.whl.metadata (11 kB)\n",
      "Collecting contourpy>=1.0.1 (from matplotlib)\n",
      "  Using cached contourpy-1.3.3-cp313-cp313-manylinux_2_27_x86_64.manylinux_2_28_x86_64.whl.metadata (5.5 kB)\n",
      "Collecting cycler>=0.10 (from matplotlib)\n",
      "  Using cached cycler-0.12.1-py3-none-any.whl.metadata (3.8 kB)\n",
      "Collecting fonttools>=4.22.0 (from matplotlib)\n",
      "  Downloading fonttools-4.59.2-cp313-cp313-manylinux1_x86_64.manylinux2014_x86_64.manylinux_2_17_x86_64.manylinux_2_5_x86_64.whl.metadata (109 kB)\n",
      "Collecting kiwisolver>=1.3.1 (from matplotlib)\n",
      "  Using cached kiwisolver-1.4.9-cp313-cp313-manylinux2014_x86_64.manylinux_2_17_x86_64.whl.metadata (6.3 kB)\n",
      "Requirement already satisfied: numpy>=1.23 in /home/joaquin/miniconda3/lib/python3.13/site-packages (from matplotlib) (1.26.4)\n",
      "Requirement already satisfied: packaging>=20.0 in /home/joaquin/miniconda3/lib/python3.13/site-packages (from matplotlib) (24.2)\n",
      "Requirement already satisfied: pillow>=8 in /home/joaquin/miniconda3/lib/python3.13/site-packages (from matplotlib) (11.3.0)\n",
      "Collecting pyparsing>=2.3.1 (from matplotlib)\n",
      "  Using cached pyparsing-3.2.3-py3-none-any.whl.metadata (5.0 kB)\n",
      "Requirement already satisfied: python-dateutil>=2.7 in /home/joaquin/miniconda3/lib/python3.13/site-packages (from matplotlib) (2.9.0.post0)\n",
      "Requirement already satisfied: six>=1.5 in /home/joaquin/miniconda3/lib/python3.13/site-packages (from python-dateutil>=2.7->matplotlib) (1.17.0)\n",
      "Using cached matplotlib-3.10.5-cp313-cp313-manylinux2014_x86_64.manylinux_2_17_x86_64.whl (8.7 MB)\n",
      "Using cached contourpy-1.3.3-cp313-cp313-manylinux_2_27_x86_64.manylinux_2_28_x86_64.whl (362 kB)\n",
      "Using cached cycler-0.12.1-py3-none-any.whl (8.3 kB)\n",
      "Downloading fonttools-4.59.2-cp313-cp313-manylinux1_x86_64.manylinux2014_x86_64.manylinux_2_17_x86_64.manylinux_2_5_x86_64.whl (4.9 MB)\n",
      "\u001b[2K   \u001b[90m━━━━━━━━━━━━━━━━━━━━━━━━━━━━━━━━━━━━━━━━\u001b[0m \u001b[32m4.9/4.9 MB\u001b[0m \u001b[31m16.5 MB/s\u001b[0m eta \u001b[36m0:00:00\u001b[0ma \u001b[36m0:00:01\u001b[0m\n",
      "\u001b[?25hUsing cached kiwisolver-1.4.9-cp313-cp313-manylinux2014_x86_64.manylinux_2_17_x86_64.whl (1.5 MB)\n",
      "Using cached pyparsing-3.2.3-py3-none-any.whl (111 kB)\n",
      "Installing collected packages: pyparsing, kiwisolver, fonttools, cycler, contourpy, matplotlib\n",
      "\u001b[2K   \u001b[90m━━━━━━━━━━━━━━━━━━━━━━━━━━━━━━━━━━━━━━━━\u001b[0m \u001b[32m6/6\u001b[0m [matplotlib]6\u001b[0m [matplotlib]\n",
      "\u001b[1A\u001b[2KSuccessfully installed contourpy-1.3.3 cycler-0.12.1 fonttools-4.59.2 kiwisolver-1.4.9 matplotlib-3.10.5 pyparsing-3.2.3\n"
     ]
    }
   ],
   "source": [
    "!pip install matplotlib"
   ]
  },
  {
   "cell_type": "code",
   "execution_count": 4,
   "id": "3204fc03",
   "metadata": {},
   "outputs": [],
   "source": [
    "###### Importación librerías ######\n",
    "\n",
    "import numpy as np\n",
    "import matplotlib.pyplot as plt"
   ]
  },
  {
   "cell_type": "markdown",
   "id": "ba8005b0",
   "metadata": {},
   "source": [
    "# 1. Carga y exploración de datos\n",
    "\n",
    "Gráfico de conexiones\n",
    "![grafo_conexiones]()"
   ]
  },
  {
   "cell_type": "code",
   "execution_count": 51,
   "id": "3b1b9a38",
   "metadata": {},
   "outputs": [
    {
     "name": "stdout",
     "output_type": "stream",
     "text": [
      "[('E1', 'E2') ('E1', 'E3') ('E1', 'E4') ('E1', 'E12') ('E1', 'E13')\n",
      " ('E1', 'E14') ('E2', 'E5') ('E2', 'E6') ('E2', 'E7') ('E3', 'E7')\n",
      " ('E3', 'E8') ('E3', 'E5') ('E4', 'E9') ('E4', 'E10') ('E4', 'E6')\n",
      " ('E5', 'E8') ('E5', 'E11') ('E6', 'E9') ('E6', 'E11') ('E7', 'E10')\n",
      " ('E7', 'E11') ('E8', 'E10') ('E9', 'E11') ('E12', 'E15') ('E12', 'E16')\n",
      " ('E12', 'E17') ('E13', 'E17') ('E13', 'E18') ('E13', 'E15')\n",
      " ('E14', 'E19') ('E14', 'E20') ('E14', 'E16') ('E15', 'E18')\n",
      " ('E15', 'E21') ('E16', 'E19') ('E16', 'E22') ('E17', 'E20')\n",
      " ('E17', 'E21') ('E18', 'E22') ('E19', 'E22') ('E20', 'E21') ('E8', 'E23')\n",
      " ('E10', 'E23') ('E11', 'E23') ('E20', 'E23') ('E21', 'E23')\n",
      " ('E22', 'E23')]\n",
      "[('E1', list(['temperatura', 'sanitaria']),  0. )\n",
      " ('E2', list(['temperatura']), 12.4) ('E3', list(['temperatura']),  9.8)\n",
      " ('E4', list(['temperatura']), 14.2) ('E5', list(['temperatura']), 10.5)\n",
      " ('E6', list(['temperatura']),  8.9) ('E7', list(['temperatura']), 13.1)\n",
      " ('E8', list(['temperatura']), 11.7) ('E9', list(['temperatura']),  9.2)\n",
      " ('E10', list(['temperatura']), 14.8) ('E11', list(['temperatura']), 10.3)\n",
      " ('E12', list(['sanitaria']),  8.7) ('E13', list(['sanitaria']), 11.3)\n",
      " ('E14', list(['sanitaria']),  9.1) ('E15', list(['sanitaria']),  7.5)\n",
      " ('E16', list(['sanitaria']), 10.8) ('E17', list(['sanitaria']),  6.9)\n",
      " ('E18', list(['sanitaria']), 11.7) ('E19', list(['sanitaria']),  8.3)\n",
      " ('E20', list(['sanitaria']),  9.9) ('E21', list(['sanitaria']),  7.2)\n",
      " ('E22', list(['sanitaria']), 10.4)\n",
      " ('E23', list(['temperatura', 'sanitaria']),  0. )]\n"
     ]
    }
   ],
   "source": [
    "# Cargar datos del grafo\n",
    "conexiones = np.load(\"conexiones.npy\")\n",
    "print(conexiones)\n",
    "\n",
    "estaciones = np.load(\"estaciones.npy\", allow_pickle=True)\n",
    "print(estaciones)"
   ]
  },
  {
   "cell_type": "markdown",
   "id": "d2a9e3db",
   "metadata": {},
   "source": [
    "# 2. Formulación formal del problema\n",
    "\n",
    "Un par de productos se deben mover desde un punto a otro gastando la menor cantidad de recursos. Para lograrlo el producto debe atravesar diferentes estaciones. Cada estación tiene un costo asociado al traslado, y una restricción que indica si recibe uno u otro producto. \n",
    "\n",
    "Se debe hallar un cámino que cumpla lo siguiente:\n",
    "\n",
    "**MIN f(producto, nodo_origen, nodo_destino) = sum(costo(nodo_origen, nodo_next))** , suma desde nodo_origen hasta nodo_destino donde el valor a sumar corresponde al valor del enlace.\n",
    "\n",
    "s.a\n",
    "1. nodo_origen = E1\n",
    "2. nodo_destino = E23\n",
    "3. producto medico debe pasar solo por estaciones de temperatura\n",
    "4. producto alimenticio debe pasar solo por estaciones de sanidad\n",
    "\n",
    "# 3. Implementación de los tres algoritmos \n",
    "\n",
    "##BFS alorithm\n",
    "\n",
    " Algoritmo que explora nodos por niveles hasta llegar al estado objetivo, dependidendo de la cantidad de caminos desde el estado inicial puede llegar a ser util"
    ]
  },
  {
   "cell_type": "code",
   "execution_count": 156 ,
   "id": "ba35056e",
   "metadata": {},
   "outputs": [
    {
     "name": "stdout",
     "output_type": "stream",
     "text": [
      "BFS Path Sanitaria: ['E1', 'E3', 'E4', 'E23'], Cost: 8.0)\n",
      "BFS Path Temperatura: ['E1', 'E2', 'E4', 'E23'], Cost: 10.0\n",
      "
      "BFS Path Sanitaria is valid: True\n",
      "BFS Path Temperatura is valid: True\n"
     ]
    }
   ],
   "source": [
class Nodo():
    def __init__(self, estacion:str, certificado:list, costo:float):
        self.estacion = estacion
        self.certificado = certificado
        self.costo = costo
        #Encuetra los vecinos desde 'conexiones' array
        self.vecinos = [str(nodo[1]) for nodo in conexiones if nodo[0] == self.estacion]

# --- generar_nodo funcion 
def generar_nodo(estacion):
    # Encontrar la siguiente estacion en'estaciones' array
    info = [info_estacion for info_estacion in estaciones if info_estacion[0] == estacion]
    if not info:
        raise ValueError(f"Station '{estacion}' not found in 'estaciones' data.")
    info = info[0] #Tomar la primera entrada valida
    return Nodo(
        estacion=estacion,
        certificado=info[1],
        costo=info[2]
    )

# BFS  
def BFS(certificado_req:str, id_origen:str, id_destino:str):
    '''
    Algoritmo Breadth-First Search implementado con una cola (lista de Python).
    Encuentra el camino más corto en términos de número de aristas.

    Parámetros:
    certificado_req (str): "sanitaria" o "temperatura".
    id_origen (str): nombre de la estación, ej: "E1"
    id_destino (str): nombre de la estación, ej: "E23"

    Retorna:
    (camino, costo_total) (tuple): Si encuentra un camino desde id_origen a id_destino
    None: Si no encuentra un camino desde id_origen a id_destino
    '''

    # Validaciones #
    if certificado_req not in ["sanitaria", "temperatura"]:
        print("Error: tipo de certificado no válido")
        return None

    # Cola: Almacena tuples (current_node_name, current_path_list, accumulated_cost)
    # Usando una lista de python como cola (pop(0) is O(N))
    cola = []

    # para evitar que el algorito revisite los nodos
    visitados = set()

    # Etapa inicial
    nodo_inicial_obj = generar_nodo(id_origen)

    # Certificar si los nodos cumple las certificaiones 
    # O si es E1 O E23, que siempre la cumplen
    es_estacion_especial = (nodo_inicial_obj.estacion == 'E1' or nodo_inicial_obj.estacion == 'E23')
    if not (es_estacion_especial or certificado_req in nodo_inicial_obj.certificado):
        print(f"Error: Nodo origen '{id_origen}' no cumple con el certificado '{certificado_req}'.")
        return None

    cola.append((nodo_inicial_obj.estacion, [nodo_inicial_obj.estacion], nodo_inicial_obj.costo))
    visitados.add(nodo_inicial_obj.estacion)

    while cola:
        nombre_estacion_actual, camino_actual, costo_actual = cola.pop(0) # Dequeue operation

        if nombre_estacion_actual == id_destino:
            return camino_actual, costo_actual

      
        nodo_actual_obj = generar_nodo(nombre_estacion_actual)

        # explorar vecinos
        for nombre_vecino in nodo_actual_obj.vecinos:
            if nombre_vecino not in visitados:
                nodo_vecino_obj = generar_nodo(nombre_vecino)

                # Verificar los requisitos de certificación para el vecino.
                # E1 y E23 tiene verificacion
                es_vecino_especial = (nodo_vecino_obj.estacion == 'E1' or nodo_vecino_obj.estacion == 'E23')

                if es_vecino_especial or certificado_req in nodo_vecino_obj.certificado:
                    visitados.add(nombre_vecino) 
                    nuevo_camino = camino_actual + [nombre_vecino]
                    nuevo_costo = costo_actual + nodo_vecino_obj.costo
                    cola.append((nombre_vecino, nuevo_camino, nuevo_costo)) 

    return None

# --- Aplicacion del algoritmo
camino_bfs_sanitaria, costo_bfs_sanitaria = BFS("sanitaria", "E1", "E23")
camino_bfs_temperatura, costo_bfs_temperatura = BFS("temperatura", "E1", "E23")

print(f"BFS Path Sanitaria: {camino_bfs_sanitaria}, Cost: {costo_bfs_sanitaria}")
print(f"BFS Path Temperatura: {camino_bfs_temperatura}, Cost: {costo_bfs_temperatura}")

# Funcion de validacion
def validate_path(camino:list, costo:float):
    if camino is None: 
        return False

    costo_calculado = 0.0
    #clcular costo
    info_primer_nodo = [info_estacion for info_estacion in estaciones if info_estacion[0] == camino[0]][0]
    costo_calculado += info_primer_nodo[2]

    for i in range(len(camino)-1):
        nombre_nodo_actual = camino[i]
        nombre_siguiente_nodo = camino[i+1]

        nodo_actual_obj = generar_nodo(nombre_nodo_actual)

        # Chequear si el nodo vecino es valido
        if nombre_siguiente_nodo not in nodo_actual_obj.vecinos:
            print(f"Error: no es posible llegar de {nombre_nodo_actual} a {nombre_siguiente_nodo}")
            return False
              
    # Agregar costo del siguiente nodo (según la descripción del problema, el costo se aplica cuando el producto pasa)
    # El problema indica "Cada vez que un producto pasa por una estación, se aplica el costo de procesamiento de dicha estación."
    # Esto implica que el costo de la estación *actual* se aplica al entrar en ella.
    # El BFS acumula el costo del *siguiente* nodo al agregarlo a la ruta.
    # Por lo tanto, la validación debe sumar los costos de todas las estaciones en la ruta.

    # Re-calcular`costo_calculado` :
    costo_calculado = 0.0
    for nombre_estacion_en_camino in camino:
        info_estacion = [info_estacion for info_estacion in estaciones if info_estacion[0] == nombre_estacion_en_camino][0]
        costo_calculado += info_estacion[2]

    return (costo_calculado == costo)


print(f"BFS Path Sanitaria is valid: {validate_path(camino_bfs_sanitaria, costo_bfs_sanitaria)}")
print(f"BFS Path Temperatura is valid: {validate_path(camino_bfs_temperatura, costo_bfs_temperatura)}")
  ]
  },
  {
    "\n",
    "## DFS Algorithm\n",
    "\n",
    "Algoritmo de búsqueda no informado. Se implementará con lógica de búsqueda In Order. Este algoritmo podría ser bueno para este problema dado que es pequeño (menos de 50 nodos)"
   ]
  },
  {
   "cell_type": "code",
   "execution_count": 52,
   "id": "ba35056e",
   "metadata": {},
   "outputs": [
    {
     "name": "stdout",
     "output_type": "stream",
     "text": [
      "(['E1', 'E12', 'E15', 'E18', 'E22', 'E23'], 38.29999923706055)\n",
      "(['E1', 'E2', 'E5', 'E8', 'E10', 'E23'], 49.39999961853027)\n",
      "El path es True\n",
      "El path es True\n"
     ]
    }
   ],
   "source": [
    "# Implementación DFS\n",
    "# conexiones\n",
    "# estaciones\n",
    "\n",
    "# Estructura Nodo\n",
    "class Nodo():\n",
    "    def __init__(self, estacion:str, certificado:list, costo:float):\n",
    "        self.estacion = estacion\n",
    "        self.certificado = certificado\n",
    "        self.costo = costo\n",
    "        self.vecinos = [str(nodo[1]) for nodo in conexiones if nodo[0] == self.estacion]\n",
    "\n",
    "def generar_nodo(estacion):\n",
    "    info = [info_estacion for info_estacion in estaciones if info_estacion[0] == estacion][0]\n",
    "    return Nodo(\n",
    "        estacion=estacion,\n",
    "        certificado=info[1],\n",
    "        costo=info[2]\n",
    "    )\n",
    "\n",
    "\n",
    "def DFS(certificado:str, nodo_origen:str, nodo_destino:str, acc:float=0, path=None):\n",
    "    '''\n",
    "    Algoritmo Deep First Search implementado con lógica in order, es decir,\n",
    "    itera tomando el primer hijo de cada nodo según el orden en el que se \n",
    "    hayan insertado en el árbol/grafo. Retorna el primer camino que encuentra.\n",
    "\n",
    "    Parámetros:\n",
    "    certificado (str): \"sanitaria\" o \"temperatura\".\n",
    "    nodo_origen (str): nombre de la estación, ej: \"E1\"\n",
    "    nodo_destino (str): nombre de la estación, ej: \"E23\"\n",
    "    acc (float): costo acumulado del path\n",
    "    path (list<str>): lista con los nombres de las estaciones \n",
    "\n",
    "    Retorna:\n",
    "    (path, acc) (tuple): Si encuentra un cámino desde nodo_origen a nodo_destino\n",
    "    None: Si no encuentra un cámino desde nodo_origen a nodo_destino \n",
    "\n",
    "    '''\n",
    "\n",
    "    # Validaciones #\n",
    "    if certificado not in [\"sanitaria\", \"temperatura\"]:\n",
    "        print(\"Error: tipo de certificado no válido\")\n",
    "        return None\n",
    "    \n",
    "    if not nodo_origen:\n",
    "        print(\"Nodo inválido o Ruta no encontrada\")\n",
    "        return None\n",
    "\n",
    "    # Inicialización #\n",
    "    if path is None:\n",
    "        path = []\n",
    "\n",
    "    nodo = generar_nodo(nodo_origen)\n",
    "\n",
    "    # Condición base #    \n",
    "    if nodo.estacion == nodo_destino:\n",
    "        path.append(nodo.estacion)\n",
    "        acc+=nodo.costo\n",
    "        return path, acc\n",
    "    \n",
    "\n",
    "    # Recursividad #\n",
    "    if certificado in nodo.certificado and nodo.estacion not in path:\n",
    "        path.append(nodo.estacion)\n",
    "        acc+=nodo.costo\n",
    "        for vecino in nodo.vecinos:\n",
    "            resultado = DFS(certificado, vecino, nodo_destino, acc, path.copy())\n",
    "            if resultado:\n",
    "                return resultado\n",
    "    \n",
    "    return None\n",
    "\n",
    "# Aplicación del algoritmo\n",
    "dfs_path_sanitaria = DFS(\"sanitaria\", \"E1\", \"E23\")\n",
    "dfs_path_temperatura = DFS(\"temperatura\", \"E1\", \"E23\")\n",
    "print(dfs_path_sanitaria)\n",
    "print(dfs_path_temperatura)\n",
    "    \n",
    "\n",
    "# Validación\n",
    "def validate_path(path:list, cost:float):\n",
    "    acc = 0\n",
    "    for i in range(len(path)-1):\n",
    "        nodo_actual = generar_nodo(path[i])\n",
    "        vecinos = nodo_actual.vecinos\n",
    "        acc+= nodo_actual.costo\n",
    "        if path[i+1] not in vecinos:\n",
    "            print(f\"Error: no es posible llegar de {path[i]} a {path[i+1]}\")\n",
    "            return False\n",
    "    acc+= generar_nodo(path[i+1]).costo\n",
    "    return True and acc == cost\n",
    "\n",
    "print(f\"El path es {validate_path(dfs_path_sanitaria[0], dfs_path_sanitaria[1])}\")\n",
    "print(f\"El path es {validate_path(dfs_path_temperatura[0], dfs_path_temperatura[1])}\")\n",
    "\n"
   ]
  },
  {
   "cell_type": "markdown",
   "id": "74f6128f",
   "metadata": {},
   "source": [
    "# UCS"
   ]
  },
  {
   "cell_type": "markdown",
   "id": "8c0b5a0a",
   "metadata": {},
   "source": [
    "Funciona priorizando las rutas con el menor costo total desde el punto de partida."
   ]
  },
  {
   "cell_type": "code",
   "execution_count": 79,
   "id": "f9b870d5",
   "metadata": {},
   "outputs": [
    {
     "name": "stdout",
     "output_type": "stream",
     "text": [
      "UCS Sanitaria: (['E1', 'E14', 'E20', 'E23'], 19.0)\n",
      "UCS Temperatura: (['E1', 'E3', 'E8', 'E23'], 21.5)\n",
      "UCS Sanitaria - El path es válido: True\n",
      "UCS Temperatura - El path es válido: True\n"
     ]
    }
   ],
   "source": [
    "# conexiones\n",
    "# estaciones\n",
    "\n",
    "\n",
    "def UCS(certificado:str, nodo_origen:str, nodo_destino:str):\n",
    "    '''\n",
    "    Algoritmo Uniform Cost Search usa una frontera ordenada por costo acumulado.\n",
    "\n",
    "    Parámetros:\n",
    "    certificado (str): \"sanitaria\" o \"temperatura\".\n",
    "    nodo_origen (str): nombre de la estación, ej: \"E1\"\n",
    "    nodo_destino (str): nombre de la estación, ej: \"E23\"\n",
    "\n",
    "    Retorna:\n",
    "    (path, acc) (tuple): Si encuentra un camino desde nodo_origen a nodo_destino\n",
    "    None: Si no encuentra un camino desde nodo_origen a nodo_destino \n",
    "    '''\n",
    "\n",
    "    if certificado not in [\"sanitaria\", \"temperatura\"]:\n",
    "        print(\"Error: tipo de certificado no válido\")\n",
    "        return None\n",
    "    \n",
    "    if not nodo_origen:\n",
    "        print(\"Nodo inválido o Ruta no encontrada\")\n",
    "        return None\n",
    "\n",
    "    # Inicialización\n",
    "    # frontera: lista de tuplas (costo_acumulado, path)\n",
    "    frontera = [(0.0, [nodo_origen])]\n",
    "    explorados = set()\n",
    "    mejor_costo = {}  # mejor costo conocido para cada estación\n",
    "\n",
    "    while frontera:\n",
    "        # Ordenar frontera por costo acumulado \n",
    "        frontera.sort(key=lambda x: x[0])\n",
    "        costo_actual, path_actual = frontera.pop(0)\n",
    "        \n",
    "        estacion_actual = path_actual[-1]\n",
    "        \n",
    "        if estacion_actual in explorados:\n",
    "            continue\n",
    "            \n",
    "        # Condicion Base\n",
    "        if estacion_actual == nodo_destino:\n",
    "            return path_actual, costo_actual\n",
    "            \n",
    "        explorados.add(estacion_actual)\n",
    "        \n",
    "        nodo_actual = generar_nodo(estacion_actual)\n",
    "        \n",
    "        if certificado in nodo_actual.certificado:\n",
    "            for vecino in nodo_actual.vecinos:\n",
    "                if vecino not in explorados:\n",
    "                    nodo_vecino = generar_nodo(vecino)\n",
    "                    \n",
    "                    if certificado in nodo_vecino.certificado:\n",
    "                        nuevo_costo = costo_actual + nodo_vecino.costo\n",
    "                        nuevo_path = path_actual + [vecino]\n",
    "                        \n",
    "                        # Verificar si es mejor que el costo conocido\n",
    "                        if vecino not in mejor_costo or nuevo_costo < mejor_costo[vecino]:\n",
    "                            mejor_costo[vecino] = nuevo_costo\n",
    "                            frontera.append((nuevo_costo, nuevo_path))\n",
    "\n",
    "    return None\n",
    "\n",
    "# Aplicación del algoritmo \n",
    "ucs_path_sanitaria = UCS(\"sanitaria\", \"E1\", \"E23\")\n",
    "ucs_path_temperatura = UCS(\"temperatura\", \"E1\", \"E23\")\n",
    "print(\"UCS Sanitaria:\", ucs_path_sanitaria)\n",
    "print(\"UCS Temperatura:\", ucs_path_temperatura)\n",
    "\n",
    "# Validación\n",
    "print(f\"UCS Sanitaria - El path es válido: {validate_path(ucs_path_sanitaria[0], ucs_path_sanitaria[1])}\")\n",
    "print(f\"UCS Temperatura - El path es válido: {validate_path(ucs_path_temperatura[0], ucs_path_temperatura[1])}\")"
   ]
  },
  {
   "cell_type": "markdown",
   "id": "cc1718fb",
   "metadata": {},
   "source": []
  },
  {
   "cell_type": "markdown",
   "id": "564ab60a",
   "metadata": {},
   "source": [
    "# 4. Función de visualización de la solución\n",
    "\n",
    "## DFS"
   ]
  },
  {
   "cell_type": "code",
   "execution_count": 45,
   "id": "73824d7a",
   "metadata": {},
   "outputs": [
    {
     "name": "stdout",
     "output_type": "stream",
     "text": [
      "_______________________________ Solución para producto Sanitario _______________________________\n"
     ]
    },
    {
     "ename": "NameError",
     "evalue": "name 'dfs_path_sanitaria' is not defined",
     "output_type": "error",
     "traceback": [
      "\u001b[31m---------------------------------------------------------------------------\u001b[39m",
      "\u001b[31mNameError\u001b[39m                                 Traceback (most recent call last)",
      "\u001b[36mCell\u001b[39m\u001b[36m \u001b[39m\u001b[32mIn[45]\u001b[39m\u001b[32m, line 29\u001b[39m\n\u001b[32m     26\u001b[39m         \u001b[38;5;28mprint\u001b[39m(\u001b[33m\"\u001b[39m\u001b[38;5;130;01m\\033\u001b[39;00m\u001b[33m[0m\u001b[39m\u001b[33m\"\u001b[39m)\n\u001b[32m     28\u001b[39m \u001b[38;5;28mprint\u001b[39m(\u001b[33m\"\u001b[39m\u001b[33m_______________________________ Solución para producto Sanitario _______________________________\u001b[39m\u001b[33m\"\u001b[39m)\n\u001b[32m---> \u001b[39m\u001b[32m29\u001b[39m solucion_interactiva(\u001b[43mdfs_path_sanitaria\u001b[49m[\u001b[32m0\u001b[39m], \u001b[33m\"\u001b[39m\u001b[33ms\u001b[39m\u001b[33m\"\u001b[39m)\n\u001b[32m     30\u001b[39m \u001b[38;5;28mprint\u001b[39m(\u001b[33m\"\u001b[39m\u001b[33m_______________________________ Solución para producto Temperatura _______________________________\u001b[39m\u001b[33m\"\u001b[39m)\n\u001b[32m     31\u001b[39m solucion_interactiva(dfs_path_temperatura[\u001b[32m0\u001b[39m], \u001b[33m\"\u001b[39m\u001b[33mt\u001b[39m\u001b[33m\"\u001b[39m)\n",
      "\u001b[31mNameError\u001b[39m: name 'dfs_path_sanitaria' is not defined"
     ]
    }
   ],
   "source": [
    "def solucion_interactiva(path:list, tipo_certificado:str):\n",
    "    if tipo_certificado not in [\"s\", \"t\"]:\n",
    "        print(\"Error: ingresa certificado en formato 's' sanitaria o 't' temperatura\")\n",
    "        return None\n",
    "    acc = 0\n",
    "    for i in range(len(path)-1):\n",
    "        nodo_actual = generar_nodo(path[i])\n",
    "        certificados_actual = ', '.join([c[0] for c in nodo_actual.certificado])\n",
    "        vecinos = nodo_actual.vecinos\n",
    "        acc+= nodo_actual.costo\n",
    "        found_next_node = 0\n",
    "        print(\"=============================\")\n",
    "        print(f\"\\033[94m Iteración: {i} \\033[0m\")\n",
    "        print(f\"\\033[92mEstación: ({nodo_actual.estacion}, ({certificados_actual}), {nodo_actual.costo:.2f})\\033[0m\")\n",
    "        print(f\"\\033[96mPath: {path[0:i+1]} - Costo Acc: {acc:.2f}\")\n",
    "        print(\"\\033[95mHijos: \", end=\"\")\n",
    "        for estacion in vecinos:\n",
    "            estacion_info = [est for est in estaciones if est[0] == estacion][0]\n",
    "            certificados = ', '.join([c[0] for c in estacion_info[1]])\n",
    "            if tipo_certificado in certificados:\n",
    "                found_next_node+=1\n",
    "            if found_next_node == 1:\n",
    "                print(f\"\\033[93m({estacion_info[0]}, ({certificados}), {estacion_info[2]:.2f}) \", end=\"\")\n",
    "            else:\n",
    "                print(f\"\\033[95m({estacion_info[0]}, ({certificados}), {estacion_info[2]:.2f}) \", end=\"\")\n",
    "        print(\"\\033[0m\")\n",
    "\n",
    "print(\"_______________________________ Solución para producto Sanitario _______________________________\")\n",
    "solucion_interactiva(dfs_path_sanitaria[0], \"s\")\n",
    "print(\"_______________________________ Solución para producto Temperatura _______________________________\")\n",
    "solucion_interactiva(dfs_path_temperatura[0], \"t\")"
   ]
  },
  {
   "cell_type": "markdown",
   "id": "3bb75207",
   "metadata": {},
   "source": [
    "# UCS\n",
    "\n"
   ]
  },
  {
   "cell_type": "code",
   "execution_count": 77,
   "id": "bddd19ae",
   "metadata": {},
   "outputs": [
    {
     "name": "stdout",
     "output_type": "stream",
     "text": [
      "_______________________________ Solución UCS para producto Sanitario _______________________________\n",
      "=============================\n",
      "\u001b[94m Iteración: 0 \u001b[0m\n",
      "\u001b[92mEstación: (E1, (t, s), 0.00)\u001b[0m\n",
      "\u001b[96mPath: ['E1'] - Costo Acc: 0.00\n",
      "\u001b[95mHijos: \u001b[95m(E2, (t), 12.40) \u001b[95m(E3, (t), 9.80) \u001b[95m(E4, (t), 14.20) \u001b[93m(E12, (s), 8.70) \u001b[95m(E13, (s), 11.30) \u001b[95m(E14, (s), 9.10) \u001b[0m\n",
      "=============================\n",
      "\u001b[94m Iteración: 1 \u001b[0m\n",
      "\u001b[92mEstación: (E14, (s), 9.10)\u001b[0m\n",
      "\u001b[96mPath: ['E1', 'E14'] - Costo Acc: 9.10\n",
      "\u001b[95mHijos: \u001b[93m(E19, (s), 8.30) \u001b[95m(E20, (s), 9.90) \u001b[95m(E16, (s), 10.80) \u001b[0m\n",
      "=============================\n",
      "\u001b[94m Iteración: 2 \u001b[0m\n",
      "\u001b[92mEstación: (E20, (s), 9.90)\u001b[0m\n",
      "\u001b[96mPath: ['E1', 'E14', 'E20'] - Costo Acc: 19.00\n",
      "\u001b[95mHijos: \u001b[93m(E21, (s), 7.20) \u001b[95m(E23, (t, s), 0.00) \u001b[0m\n",
      "_______________________________ Solución UCS para producto Temperatura _______________________________\n",
      "=============================\n",
      "\u001b[94m Iteración: 0 \u001b[0m\n",
      "\u001b[92mEstación: (E1, (t, s), 0.00)\u001b[0m\n",
      "\u001b[96mPath: ['E1'] - Costo Acc: 0.00\n",
      "\u001b[95mHijos: \u001b[93m(E2, (t), 12.40) \u001b[95m(E3, (t), 9.80) \u001b[95m(E4, (t), 14.20) \u001b[95m(E12, (s), 8.70) \u001b[95m(E13, (s), 11.30) \u001b[95m(E14, (s), 9.10) \u001b[0m\n",
      "=============================\n",
      "\u001b[94m Iteración: 1 \u001b[0m\n",
      "\u001b[92mEstación: (E3, (t), 9.80)\u001b[0m\n",
      "\u001b[96mPath: ['E1', 'E3'] - Costo Acc: 9.80\n",
      "\u001b[95mHijos: \u001b[93m(E7, (t), 13.10) \u001b[95m(E8, (t), 11.70) \u001b[95m(E5, (t), 10.50) \u001b[0m\n",
      "=============================\n",
      "\u001b[94m Iteración: 2 \u001b[0m\n",
      "\u001b[92mEstación: (E8, (t), 11.70)\u001b[0m\n",
      "\u001b[96mPath: ['E1', 'E3', 'E8'] - Costo Acc: 21.50\n",
      "\u001b[95mHijos: \u001b[93m(E10, (t), 14.80) \u001b[95m(E23, (t, s), 0.00) \u001b[0m\n"
     ]
    }
   ],
   "source": [
    "print(\"_______________________________ Solución UCS para producto Sanitario _______________________________\")\n",
    "if ucs_path_sanitaria:\n",
    "    solucion_interactiva(ucs_path_sanitaria[0], \"s\")\n",
    "print(\"_______________________________ Solución UCS para producto Temperatura _______________________________\")\n",
    "if ucs_path_temperatura:\n",
    "    solucion_interactiva(ucs_path_temperatura[0], \"t\")"
   ]
  },
  {
   "cell_type": "markdown",
   "id": "ea60b4f5",
   "metadata": {},
   "source": [
    "# 5. Experimentos Comparativos\n"
   ]
  },
  {
   "cell_type": "markdown",
   "id": "54443432",
   "metadata": {},
   "source": [
    "# 6. Análisis de Resultados\n"
   ]
  }
 ],
 "metadata": {
  "kernelspec": {
   "display_name": "base",
   "language": "python",
   "name": "python3"
  },
  "language_info": {
   "codemirror_mode": {
    "name": "ipython",
    "version": 3
   },
   "file_extension": ".py",
   "mimetype": "text/x-python",
   "name": "python",
   "nbconvert_exporter": "python",
   "pygments_lexer": "ipython3",
   "version": "3.13.5"
  }
 },
 "nbformat": 4,
 "nbformat_minor": 5
}
