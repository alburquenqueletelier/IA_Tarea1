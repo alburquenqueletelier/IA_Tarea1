{
  "cells": [
    {
      "cell_type": "code",
      "execution_count": 11,
      "id": "da79e4a9",
      "metadata": {
        "id": "da79e4a9",
        "outputId": "bd43bc69-40ad-40d4-96f6-b80ff6bd9604"
      },
      "outputs": [
        {
          "name": "stdout",
          "output_type": "stream",
          "text": [
            "Requirement already satisfied: numpy in /home/soclab/Documentos/prueba_git/.venv/lib/python3.11/site-packages (2.3.2)\n",
            "Requirement already satisfied: matplotlib in /home/soclab/Documentos/prueba_git/.venv/lib/python3.11/site-packages (3.10.5)\n",
            "Requirement already satisfied: contourpy>=1.0.1 in /home/soclab/Documentos/prueba_git/.venv/lib/python3.11/site-packages (from matplotlib) (1.3.3)\n",
            "Requirement already satisfied: cycler>=0.10 in /home/soclab/Documentos/prueba_git/.venv/lib/python3.11/site-packages (from matplotlib) (0.12.1)\n",
            "Requirement already satisfied: fonttools>=4.22.0 in /home/soclab/Documentos/prueba_git/.venv/lib/python3.11/site-packages (from matplotlib) (4.59.2)\n",
            "Requirement already satisfied: kiwisolver>=1.3.1 in /home/soclab/Documentos/prueba_git/.venv/lib/python3.11/site-packages (from matplotlib) (1.4.9)\n",
            "Requirement already satisfied: packaging>=20.0 in /home/soclab/Documentos/prueba_git/.venv/lib/python3.11/site-packages (from matplotlib) (25.0)\n",
            "Requirement already satisfied: pillow>=8 in /home/soclab/Documentos/prueba_git/.venv/lib/python3.11/site-packages (from matplotlib) (11.3.0)\n",
            "Requirement already satisfied: pyparsing>=2.3.1 in /home/soclab/Documentos/prueba_git/.venv/lib/python3.11/site-packages (from matplotlib) (3.2.3)\n",
            "Requirement already satisfied: python-dateutil>=2.7 in /home/soclab/Documentos/prueba_git/.venv/lib/python3.11/site-packages (from matplotlib) (2.9.0.post0)\n",
            "Requirement already satisfied: six>=1.5 in /home/soclab/Documentos/prueba_git/.venv/lib/python3.11/site-packages (from python-dateutil>=2.7->matplotlib) (1.17.0)\n"
          ]
        }
      ],
      "source": [
        "!pip install numpy matplotlib"
      ]
    },
    {
      "cell_type": "code",
      "execution_count": 12,
      "id": "3204fc03",
      "metadata": {
        "id": "3204fc03"
      },
      "outputs": [],
      "source": [
        "###### Importación librerías ######\n",
        "\n",
        "import numpy as np\n",
        "import matplotlib.pyplot as plt"
      ]
    },
    {
      "cell_type": "markdown",
      "id": "ba8005b0",
      "metadata": {
        "id": "ba8005b0"
      },
      "source": [
        "# 1. Carga y exploración de datos\n",
        "\n",
        "Gráfico de conexiones\n",
        "![grafo_conexiones]()"
      ]
    },
    {
      "cell_type": "code",
      "execution_count": 13,
      "id": "3b1b9a38",
      "metadata": {
        "colab": {
          "base_uri": "https://localhost:8080/"
        },
        "id": "3b1b9a38",
        "outputId": "29e59245-4488-46ee-8d29-186c7e0bf3c2"
      },
      "outputs": [
        {
          "name": "stdout",
          "output_type": "stream",
          "text": [
            "[('E1', 'E2') ('E1', 'E3') ('E1', 'E4') ('E1', 'E12') ('E1', 'E13')\n",
            " ('E1', 'E14') ('E2', 'E5') ('E2', 'E6') ('E2', 'E7') ('E3', 'E7')\n",
            " ('E3', 'E8') ('E3', 'E5') ('E4', 'E9') ('E4', 'E10') ('E4', 'E6')\n",
            " ('E5', 'E8') ('E5', 'E11') ('E6', 'E9') ('E6', 'E11') ('E7', 'E10')\n",
            " ('E7', 'E11') ('E8', 'E10') ('E9', 'E11') ('E12', 'E15') ('E12', 'E16')\n",
            " ('E12', 'E17') ('E13', 'E17') ('E13', 'E18') ('E13', 'E15')\n",
            " ('E14', 'E19') ('E14', 'E20') ('E14', 'E16') ('E15', 'E18')\n",
            " ('E15', 'E21') ('E16', 'E19') ('E16', 'E22') ('E17', 'E20')\n",
            " ('E17', 'E21') ('E18', 'E22') ('E19', 'E22') ('E20', 'E21') ('E8', 'E23')\n",
            " ('E10', 'E23') ('E11', 'E23') ('E20', 'E23') ('E21', 'E23')\n",
            " ('E22', 'E23')]\n",
            "[('E1', list(['temperatura', 'sanitaria']),  0. )\n",
            " ('E2', list(['temperatura']), 12.4) ('E3', list(['temperatura']),  9.8)\n",
            " ('E4', list(['temperatura']), 14.2) ('E5', list(['temperatura']), 10.5)\n",
            " ('E6', list(['temperatura']),  8.9) ('E7', list(['temperatura']), 13.1)\n",
            " ('E8', list(['temperatura']), 11.7) ('E9', list(['temperatura']),  9.2)\n",
            " ('E10', list(['temperatura']), 14.8) ('E11', list(['temperatura']), 10.3)\n",
            " ('E12', list(['sanitaria']),  8.7) ('E13', list(['sanitaria']), 11.3)\n",
            " ('E14', list(['sanitaria']),  9.1) ('E15', list(['sanitaria']),  7.5)\n",
            " ('E16', list(['sanitaria']), 10.8) ('E17', list(['sanitaria']),  6.9)\n",
            " ('E18', list(['sanitaria']), 11.7) ('E19', list(['sanitaria']),  8.3)\n",
            " ('E20', list(['sanitaria']),  9.9) ('E21', list(['sanitaria']),  7.2)\n",
            " ('E22', list(['sanitaria']), 10.4)\n",
            " ('E23', list(['temperatura', 'sanitaria']),  0. )]\n"
          ]
        }
      ],
      "source": [
        "# Cargar datos del grafo\n",
        "conexiones = np.load(\"conexiones.npy\")\n",
        "print(conexiones)\n",
        "\n",
        "estaciones = np.load(\"estaciones.npy\", allow_pickle=True)\n",
        "print(estaciones)"
      ]
    },
    {
      "cell_type": "markdown",
      "id": "d2a9e3db",
      "metadata": {
        "id": "d2a9e3db"
      },
      "source": [
        "# 2. Formulación formal del problema\n",
        "\n",
        "Un par de productos se deben mover desde un punto a otro gastando la menor cantidad de recursos. Para lograrlo el producto debe atravesar diferentes estaciones. Cada estación tiene un costo asociado al traslado, y una restricción que indica si recibe uno u otro producto.\n",
        "\n",
        "Se debe hallar un cámino que cumpla lo siguiente:\n",
        "\n",
        "**MIN f(producto, nodo_origen, nodo_destino) = sum(costo(nodo_origen, nodo_next))** , suma desde nodo_origen hasta nodo_destino donde el valor a sumar corresponde al valor del enlace.\n",
        "\n",
        "s.a\n",
        "1. nodo_origen = E1\n",
        "2. nodo_destino = E23\n",
        "3. producto medico debe pasar solo por estaciones de temperatura\n",
        "4. producto alimenticio debe pasar solo por estaciones de sanidad\n",
        "\n",
        "# 3. Implementación de los tres algoritmos\n",
        "\n",
        "## DFS Algorithm\n",
        "\n",
        "Algoritmo de búsqueda no informado. Se implementará con lógica de búsqueda In Order. Este algoritmo podría ser bueno para este problema dado que es pequeño (menos de 50 nodos)"
      ]
    },
    {
      "cell_type": "code",
      "execution_count": 14,
      "id": "ba35056e",
      "metadata": {
        "colab": {
          "base_uri": "https://localhost:8080/"
        },
        "id": "ba35056e",
        "outputId": "c7e6e007-8c1a-4a44-dacb-10c8c1e6a6db"
      },
      "outputs": [
        {
          "name": "stdout",
          "output_type": "stream",
          "text": [
            "(['E1', 'E12', 'E15', 'E18', 'E22', 'E23'], np.float32(38.300003))\n",
            "(['E1', 'E2', 'E5', 'E8', 'E10', 'E23'], np.float32(49.399998))\n",
            "El path es True\n",
            "El path es True\n"
          ]
        }
      ],
      "source": [
        "# Implementación DFS\n",
        "# conexiones\n",
        "# estaciones\n",
        "\n",
        "# Estructura Nodo\n",
        "class Nodo():\n",
        "    def __init__(self, estacion:str, certificado:list, costo:float):\n",
        "        self.estacion = estacion\n",
        "        self.certificado = certificado\n",
        "        self.costo = costo\n",
        "        self.vecinos = [str(nodo[1]) for nodo in conexiones if nodo[0] == self.estacion]\n",
        "\n",
        "def generar_nodo(estacion):\n",
        "    info = [info_estacion for info_estacion in estaciones if info_estacion[0] == estacion][0]\n",
        "    return Nodo(\n",
        "        estacion=estacion,\n",
        "        certificado=info[1],\n",
        "        costo=info[2]\n",
        "    )\n",
        "\n",
        "\n",
        "def DFS(certificado:str, nodo_origen:str, nodo_destino:str, acc:float=0, path=None):\n",
        "    '''\n",
        "    Algoritmo Deep First Search implementado con lógica in order, es decir,\n",
        "    itera tomando el primer hijo de cada nodo según el orden en el que se\n",
        "    hayan insertado en el árbol/grafo. Retorna el primer camino que encuentra.\n",
        "\n",
        "    Parámetros:\n",
        "    certificado (str): \"sanitaria\" o \"temperatura\".\n",
        "    nodo_origen (str): nombre de la estación, ej: \"E1\"\n",
        "    nodo_destino (str): nombre de la estación, ej: \"E23\"\n",
        "    acc (float): costo acumulado del path\n",
        "    path (list<str>): lista con los nombres de las estaciones\n",
        "\n",
        "    Retorna:\n",
        "    (path, acc) (tuple): Si encuentra un cámino desde nodo_origen a nodo_destino\n",
        "    None: Si no encuentra un cámino desde nodo_origen a nodo_destino\n",
        "\n",
        "    '''\n",
        "\n",
        "    # Validaciones #\n",
        "    if certificado not in [\"sanitaria\", \"temperatura\"]:\n",
        "        print(\"Error: tipo de certificado no válido\")\n",
        "        return None\n",
        "\n",
        "    if not nodo_origen:\n",
        "        print(\"Nodo inválido o Ruta no encontrada\")\n",
        "        return None\n",
        "\n",
        "    # Inicialización #\n",
        "    if path is None:\n",
        "        path = []\n",
        "\n",
        "    nodo = generar_nodo(nodo_origen)\n",
        "\n",
        "    # Condición base #\n",
        "    if nodo.estacion == nodo_destino:\n",
        "        path.append(nodo.estacion)\n",
        "        acc+=nodo.costo\n",
        "        return path, acc\n",
        "\n",
        "\n",
        "    # Recursividad #\n",
        "    if certificado in nodo.certificado and nodo.estacion not in path:\n",
        "        path.append(nodo.estacion)\n",
        "        acc+=nodo.costo\n",
        "        for vecino in nodo.vecinos:\n",
        "            resultado = DFS(certificado, vecino, nodo_destino, acc, path.copy())\n",
        "            if resultado:\n",
        "                return resultado\n",
        "\n",
        "    return None\n",
        "\n",
        "# Aplicación del algoritmo\n",
        "dfs_path_sanitaria = DFS(\"sanitaria\", \"E1\", \"E23\")\n",
        "dfs_path_temperatura = DFS(\"temperatura\", \"E1\", \"E23\")\n",
        "print(dfs_path_sanitaria)\n",
        "print(dfs_path_temperatura)\n",
        "\n",
        "\n",
        "# Validación\n",
        "def validate_path(path:list, cost:float):\n",
        "    acc = 0\n",
        "    for i in range(len(path)-1):\n",
        "        nodo_actual = generar_nodo(path[i])\n",
        "        vecinos = nodo_actual.vecinos\n",
        "        acc+= nodo_actual.costo\n",
        "        if path[i+1] not in vecinos:\n",
        "            print(f\"Error: no es posible llegar de {path[i]} a {path[i+1]}\")\n",
        "            return False\n",
        "    acc+= generar_nodo(path[i+1]).costo\n",
        "    return True and acc == cost\n",
        "\n",
        "print(f\"El path es {validate_path(dfs_path_sanitaria[0], dfs_path_sanitaria[1])}\")\n",
        "print(f\"El path es {validate_path(dfs_path_temperatura[0], dfs_path_temperatura[1])}\")\n",
        "\n"
      ]
    },
    {
      "cell_type": "markdown",
      "id": "74f6128f",
      "metadata": {
        "id": "74f6128f"
      },
      "source": [
        "# UCS"
      ]
    },
    {
      "cell_type": "markdown",
      "id": "8c0b5a0a",
      "metadata": {
        "id": "8c0b5a0a"
      },
      "source": [
        "Funciona priorizando las rutas con el menor costo total desde el punto de partida."
      ]
    },
    {
      "cell_type": "code",
      "execution_count": 15,
      "id": "f9b870d5",
      "metadata": {
        "colab": {
          "base_uri": "https://localhost:8080/"
        },
        "id": "f9b870d5",
        "outputId": "2bc2cec4-f99e-4016-e822-3829f44c3741"
      },
      "outputs": [
        {
          "name": "stdout",
          "output_type": "stream",
          "text": [
            "UCS Sanitaria: (['E1', 'E14', 'E20', 'E23'], np.float32(19.0))\n",
            "UCS Temperatura: (['E1', 'E3', 'E8', 'E23'], np.float32(21.5))\n",
            "UCS Sanitaria - El path es válido: True\n",
            "UCS Temperatura - El path es válido: True\n"
          ]
        }
      ],
      "source": [
        "# conexiones\n",
        "# estaciones\n",
        "\n",
        "\n",
        "def UCS(certificado:str, nodo_origen:str, nodo_destino:str):\n",
        "    '''\n",
        "    Algoritmo Uniform Cost Search usa una frontera ordenada por costo acumulado.\n",
        "\n",
        "    Parámetros:\n",
        "    certificado (str): \"sanitaria\" o \"temperatura\".\n",
        "    nodo_origen (str): nombre de la estación, ej: \"E1\"\n",
        "    nodo_destino (str): nombre de la estación, ej: \"E23\"\n",
        "\n",
        "    Retorna:\n",
        "    (path, acc) (tuple): Si encuentra un camino desde nodo_origen a nodo_destino\n",
        "    None: Si no encuentra un camino desde nodo_origen a nodo_destino\n",
        "    '''\n",
        "\n",
        "    if certificado not in [\"sanitaria\", \"temperatura\"]:\n",
        "        print(\"Error: tipo de certificado no válido\")\n",
        "        return None\n",
        "\n",
        "    if not nodo_origen:\n",
        "        print(\"Nodo inválido o Ruta no encontrada\")\n",
        "        return None\n",
        "\n",
        "    # Inicialización\n",
        "    # frontera: lista de tuplas (costo_acumulado, path)\n",
        "    frontera = [(0.0, [nodo_origen])]\n",
        "    explorados = set()\n",
        "    mejor_costo = {}  # mejor costo conocido para cada estación\n",
        "\n",
        "    while frontera:\n",
        "        # Ordenar frontera por costo acumulado\n",
        "        frontera.sort(key=lambda x: x[0])\n",
        "        costo_actual, path_actual = frontera.pop(0)\n",
        "\n",
        "        estacion_actual = path_actual[-1]\n",
        "\n",
        "        if estacion_actual in explorados:\n",
        "            continue\n",
        "\n",
        "        # Condicion Base\n",
        "        if estacion_actual == nodo_destino:\n",
        "            return path_actual, costo_actual\n",
        "\n",
        "        explorados.add(estacion_actual)\n",
        "\n",
        "        nodo_actual = generar_nodo(estacion_actual)\n",
        "\n",
        "        if certificado in nodo_actual.certificado:\n",
        "            for vecino in nodo_actual.vecinos:\n",
        "                if vecino not in explorados:\n",
        "                    nodo_vecino = generar_nodo(vecino)\n",
        "\n",
        "                    if certificado in nodo_vecino.certificado:\n",
        "                        nuevo_costo = costo_actual + nodo_vecino.costo\n",
        "                        nuevo_path = path_actual + [vecino]\n",
        "\n",
        "                        # Verificar si es mejor que el costo conocido\n",
        "                        if vecino not in mejor_costo or nuevo_costo < mejor_costo[vecino]:\n",
        "                            mejor_costo[vecino] = nuevo_costo\n",
        "                            frontera.append((nuevo_costo, nuevo_path))\n",
        "\n",
        "    return None\n",
        "\n",
        "# Aplicación del algoritmo\n",
        "ucs_path_sanitaria = UCS(\"sanitaria\", \"E1\", \"E23\")\n",
        "ucs_path_temperatura = UCS(\"temperatura\", \"E1\", \"E23\")\n",
        "print(\"UCS Sanitaria:\", ucs_path_sanitaria)\n",
        "print(\"UCS Temperatura:\", ucs_path_temperatura)\n",
        "\n",
        "# Validación\n",
        "print(f\"UCS Sanitaria - El path es válido: {validate_path(ucs_path_sanitaria[0], ucs_path_sanitaria[1])}\")\n",
        "print(f\"UCS Temperatura - El path es válido: {validate_path(ucs_path_temperatura[0], ucs_path_temperatura[1])}\")"
      ]
    },
    {
      "cell_type": "markdown",
      "id": "Ik31BZPHwKvl",
      "metadata": {
        "id": "Ik31BZPHwKvl"
      },
      "source": [
        "\n",
        "##BFS Algorithm\n",
        "Es un algoritmo de busqueda no informado que va explorando nodos vecinos hasta llegar a un estado objetivo,que tan lejos este el objetivo fe estado inicial puede ser una herramienta util.\n"
      ]
    },
    {
      "cell_type": "code",
      "execution_count": 16,
      "id": "K8sl9x12wQ9Q",
      "metadata": {
        "colab": {
          "base_uri": "https://localhost:8080/"
        },
        "id": "K8sl9x12wQ9Q",
        "outputId": "caf8018a-5643-45d4-f543-25739a41e2c6"
      },
      "outputs": [
        {
          "name": "stdout",
          "output_type": "stream",
          "text": [
            "BFS Path Sanitaria: ['E1', 'E14', 'E20', 'E23'], Cost: 19.0\n",
            "BFS Path Temperatura: ['E1', 'E3', 'E8', 'E23'], Cost: 21.5\n",
            "BFS Path Sanitaria is valid: True\n",
            "BFS Path Temperatura is valid: True\n"
          ]
        }
      ],
      "source": [
        "\n",
        "\n",
        "class Nodo():\n",
        "    def __init__(self, estacion:str, certificado:list, costo:float):\n",
        "        self.estacion = estacion\n",
        "        self.certificado = certificado\n",
        "        self.costo = costo\n",
        "        #Encuetra los vecinos desde 'conexiones' array\n",
        "        self.vecinos = [str(nodo[1]) for nodo in conexiones if nodo[0] == self.estacion]\n",
        "\n",
        "# --- generar_nodo funcion\n",
        "def generar_nodo(estacion):\n",
        "    # Encontrar la siguiente estacion en 'estaciones' array\n",
        "    info = [info_estacion for info_estacion in estaciones if info_estacion[0] == estacion]\n",
        "    if not info:\n",
        "        raise ValueError(f\"Station '{estacion}' not found in 'estaciones' data.\")\n",
        "    info = info[0] #Tomar la primera entrada valida\n",
        "    return Nodo(\n",
        "        estacion=estacion,\n",
        "        certificado=info[1],\n",
        "        costo=info[2]\n",
        "    )\n",
        "\n",
        "# BFS\n",
        "def BFS(certificado_req:str, id_origen:str, id_destino:str):\n",
        "    '''\n",
        "    Algoritmo Breadth-First Search implementado con una cola (lista de Python).\n",
        "    Encuentra el camino más corto en términos de número de aristas.\n",
        "\n",
        "    Parámetros:\n",
        "    certificado_req (str): \"sanitaria\" o \"temperatura\".\n",
        "    id_origen (str): nombre de la estación, ej: \"E1\"\n",
        "    id_destino (str): nombre de la estación, ej: \"E23\"\n",
        "\n",
        "    Retorna:\n",
        "    (camino, costo_total) (tuple): Si encuentra un camino desde id_origen a id_destino\n",
        "    None: Si no encuentra un camino desde id_origen a id_destino\n",
        "    '''\n",
        "\n",
        "    # Validaciones #\n",
        "    if certificado_req not in [\"sanitaria\", \"temperatura\"]:\n",
        "        print(\"Error: tipo de certificado no válido\")\n",
        "        return None\n",
        "\n",
        "    # Cola: Almacena tuples (current_node_name, current_path_list, accumulated_cost)\n",
        "    # Usando una lista de python como cola (pop(0) is O(N))\n",
        "    cola = []\n",
        "\n",
        "    # para evitar que el algorito revisite los nodos\n",
        "    visitados = set()\n",
        "\n",
        "    # Etapa inicial\n",
        "    nodo_inicial_obj = generar_nodo(id_origen)\n",
        "\n",
        "    # Certificar si los nodos cumple las certificaiones\n",
        "    # O si es E1 O E23, que siempre la cumplen\n",
        "    es_estacion_especial = (nodo_inicial_obj.estacion == 'E1' or nodo_inicial_obj.estacion == 'E23')\n",
        "    if not (es_estacion_especial or certificado_req in nodo_inicial_obj.certificado):\n",
        "        print(f\"Error: Nodo origen '{id_origen}' no cumple con el certificado '{certificado_req}'.\")\n",
        "        return None\n",
        "\n",
        "    cola.append((nodo_inicial_obj.estacion, [nodo_inicial_obj.estacion], nodo_inicial_obj.costo))\n",
        "    visitados.add(nodo_inicial_obj.estacion)\n",
        "\n",
        "    while cola:\n",
        "        nombre_estacion_actual, camino_actual, costo_actual = cola.pop(0) # Dequeue operation\n",
        "\n",
        "        if nombre_estacion_actual == id_destino:\n",
        "            return camino_actual, costo_actual\n",
        "\n",
        "\n",
        "        nodo_actual_obj = generar_nodo(nombre_estacion_actual)\n",
        "\n",
        "        # explorar vecinos\n",
        "        for nombre_vecino in nodo_actual_obj.vecinos:\n",
        "            if nombre_vecino not in visitados:\n",
        "                nodo_vecino_obj = generar_nodo(nombre_vecino)\n",
        "\n",
        "                # Verificar los requisitos de certificación para el vecino.\n",
        "                # E1 y E23 tiene verificacion\n",
        "                es_vecino_especial = (nodo_vecino_obj.estacion == 'E1' or nodo_vecino_obj.estacion == 'E23')\n",
        "\n",
        "                if es_vecino_especial or certificado_req in nodo_vecino_obj.certificado:\n",
        "                    visitados.add(nombre_vecino)\n",
        "                    nuevo_camino = camino_actual + [nombre_vecino]\n",
        "                    nuevo_costo = costo_actual + nodo_vecino_obj.costo\n",
        "                    cola.append((nombre_vecino, nuevo_camino, nuevo_costo))\n",
        "\n",
        "    return None\n",
        "\n",
        "# --- Aplicacion del algoritmo\n",
        "camino_bfs_sanitaria, costo_bfs_sanitaria = BFS(\"sanitaria\", \"E1\", \"E23\")\n",
        "camino_bfs_temperatura, costo_bfs_temperatura = BFS(\"temperatura\", \"E1\", \"E23\")\n",
        "\n",
        "print(f\"BFS Path Sanitaria: {camino_bfs_sanitaria}, Cost: {costo_bfs_sanitaria}\")\n",
        "print(f\"BFS Path Temperatura: {camino_bfs_temperatura}, Cost: {costo_bfs_temperatura}\")\n",
        "\n",
        "# Funcion de validacion\n",
        "def validate_path(camino:list, costo:float):\n",
        "    if camino is None:\n",
        "        return False\n",
        "\n",
        "    costo_calculado = 0.0\n",
        "    #clcular costo\n",
        "    info_primer_nodo = [info_estacion for info_estacion in estaciones if info_estacion[0] == camino[0]][0]\n",
        "    costo_calculado += info_primer_nodo[2]\n",
        "\n",
        "    for i in range(len(camino)-1):\n",
        "        nombre_nodo_actual = camino[i]\n",
        "        nombre_siguiente_nodo = camino[i+1]\n",
        "\n",
        "        nodo_actual_obj = generar_nodo(nombre_nodo_actual)\n",
        "\n",
        "        # Chequear si el nodo vecino es valido\n",
        "        if nombre_siguiente_nodo not in nodo_actual_obj.vecinos:\n",
        "            print(f\"Error: no es posible llegar de {nombre_nodo_actual} a {nombre_siguiente_nodo}\")\n",
        "            return False\n",
        "\n",
        "    # Agregar costo del siguiente nodo (según la descripción del problema, el costo se aplica cuando el producto pasa)\n",
        "    # El problema indica \"Cada vez que un producto pasa por una estación, se aplica el costo de procesamiento de dicha estación.\"\n",
        "    # Esto implica que el costo de la estación *actual* se aplica al entrar en ella.\n",
        "    # El BFS acumula el costo del *siguiente* nodo al agregarlo a la ruta.\n",
        "    # Por lo tanto, la validación debe sumar los costos de todas las estaciones en la ruta.\n",
        "\n",
        "    # Re-calcular`costo_calculado` :\n",
        "    costo_calculado = 0.0\n",
        "    for nombre_estacion_en_camino in camino:\n",
        "        info_estacion = [info_estacion for info_estacion in estaciones if info_estacion[0] == nombre_estacion_en_camino][0]\n",
        "        costo_calculado += info_estacion[2]\n",
        "\n",
        "    return (costo_calculado == costo)\n",
        "\n",
        "\n",
        "print(f\"BFS Path Sanitaria is valid: {validate_path(camino_bfs_sanitaria, costo_bfs_sanitaria)}\")\n",
        "print(f\"BFS Path Temperatura is valid: {validate_path(camino_bfs_temperatura, costo_bfs_temperatura)}\")"
      ]
    },
    {
      "cell_type": "markdown",
      "id": "564ab60a",
      "metadata": {
        "id": "564ab60a"
      },
      "source": [
        "# 4. Función de visualización de la solución\n",
        "\n",
        "## DFS"
      ]
    },
    {
      "cell_type": "code",
      "execution_count": 17,
      "id": "73824d7a",
      "metadata": {
        "colab": {
          "base_uri": "https://localhost:8080/"
        },
        "id": "73824d7a",
        "outputId": "242f1552-38df-41d5-eaf5-f93ba1d0bfa2"
      },
      "outputs": [
        {
          "name": "stdout",
          "output_type": "stream",
          "text": [
            "_______________________________ Solución para producto Sanitario _______________________________\n",
            "=============================\n",
            "\u001b[94m Iteración: 0 \u001b[0m\n",
            "\u001b[92mEstación: (E1, (t, s), 0.00)\u001b[0m\n",
            "\u001b[96mPath: ['E1'] - Costo Acc: 0.00\n",
            "\u001b[95mHijos: \u001b[95m(E2, (t), 12.40) \u001b[95m(E3, (t), 9.80) \u001b[95m(E4, (t), 14.20) \u001b[93m(E12, (s), 8.70) \u001b[95m(E13, (s), 11.30) \u001b[95m(E14, (s), 9.10) \u001b[0m\n",
            "=============================\n",
            "\u001b[94m Iteración: 1 \u001b[0m\n",
            "\u001b[92mEstación: (E12, (s), 8.70)\u001b[0m\n",
            "\u001b[96mPath: ['E1', 'E12'] - Costo Acc: 8.70\n",
            "\u001b[95mHijos: \u001b[93m(E15, (s), 7.50) \u001b[95m(E16, (s), 10.80) \u001b[95m(E17, (s), 6.90) \u001b[0m\n",
            "=============================\n",
            "\u001b[94m Iteración: 2 \u001b[0m\n",
            "\u001b[92mEstación: (E15, (s), 7.50)\u001b[0m\n",
            "\u001b[96mPath: ['E1', 'E12', 'E15'] - Costo Acc: 16.20\n",
            "\u001b[95mHijos: \u001b[93m(E18, (s), 11.70) \u001b[95m(E21, (s), 7.20) \u001b[0m\n",
            "=============================\n",
            "\u001b[94m Iteración: 3 \u001b[0m\n",
            "\u001b[92mEstación: (E18, (s), 11.70)\u001b[0m\n",
            "\u001b[96mPath: ['E1', 'E12', 'E15', 'E18'] - Costo Acc: 27.90\n",
            "\u001b[95mHijos: \u001b[93m(E22, (s), 10.40) \u001b[0m\n",
            "=============================\n",
            "\u001b[94m Iteración: 4 \u001b[0m\n",
            "\u001b[92mEstación: (E22, (s), 10.40)\u001b[0m\n",
            "\u001b[96mPath: ['E1', 'E12', 'E15', 'E18', 'E22'] - Costo Acc: 38.30\n",
            "\u001b[95mHijos: \u001b[93m(E23, (t, s), 0.00) \u001b[0m\n",
            "_______________________________ Solución para producto Temperatura _______________________________\n",
            "=============================\n",
            "\u001b[94m Iteración: 0 \u001b[0m\n",
            "\u001b[92mEstación: (E1, (t, s), 0.00)\u001b[0m\n",
            "\u001b[96mPath: ['E1'] - Costo Acc: 0.00\n",
            "\u001b[95mHijos: \u001b[93m(E2, (t), 12.40) \u001b[95m(E3, (t), 9.80) \u001b[95m(E4, (t), 14.20) \u001b[95m(E12, (s), 8.70) \u001b[95m(E13, (s), 11.30) \u001b[95m(E14, (s), 9.10) \u001b[0m\n",
            "=============================\n",
            "\u001b[94m Iteración: 1 \u001b[0m\n",
            "\u001b[92mEstación: (E2, (t), 12.40)\u001b[0m\n",
            "\u001b[96mPath: ['E1', 'E2'] - Costo Acc: 12.40\n",
            "\u001b[95mHijos: \u001b[93m(E5, (t), 10.50) \u001b[95m(E6, (t), 8.90) \u001b[95m(E7, (t), 13.10) \u001b[0m\n",
            "=============================\n",
            "\u001b[94m Iteración: 2 \u001b[0m\n",
            "\u001b[92mEstación: (E5, (t), 10.50)\u001b[0m\n",
            "\u001b[96mPath: ['E1', 'E2', 'E5'] - Costo Acc: 22.90\n",
            "\u001b[95mHijos: \u001b[93m(E8, (t), 11.70) \u001b[95m(E11, (t), 10.30) \u001b[0m\n",
            "=============================\n",
            "\u001b[94m Iteración: 3 \u001b[0m\n",
            "\u001b[92mEstación: (E8, (t), 11.70)\u001b[0m\n",
            "\u001b[96mPath: ['E1', 'E2', 'E5', 'E8'] - Costo Acc: 34.60\n",
            "\u001b[95mHijos: \u001b[93m(E10, (t), 14.80) \u001b[95m(E23, (t, s), 0.00) \u001b[0m\n",
            "=============================\n",
            "\u001b[94m Iteración: 4 \u001b[0m\n",
            "\u001b[92mEstación: (E10, (t), 14.80)\u001b[0m\n",
            "\u001b[96mPath: ['E1', 'E2', 'E5', 'E8', 'E10'] - Costo Acc: 49.40\n",
            "\u001b[95mHijos: \u001b[93m(E23, (t, s), 0.00) \u001b[0m\n"
          ]
        }
      ],
      "source": [
        "### Funciona solo para el DFS ###\n",
        "def solucion_interactiva(path:list, tipo_certificado:str):\n",
        "    if tipo_certificado not in [\"s\", \"t\"]:\n",
        "        print(\"Error: ingresa certificado en formato 's' sanitaria o 't' temperatura\")\n",
        "        return None\n",
        "    acc = 0\n",
        "    for i in range(len(path)-1):\n",
        "        nodo_actual = generar_nodo(path[i])\n",
        "        certificados_actual = ', '.join([c[0] for c in nodo_actual.certificado])\n",
        "        vecinos = nodo_actual.vecinos\n",
        "        acc+= nodo_actual.costo\n",
        "        found_next_node = 0\n",
        "        print(\"=============================\")\n",
        "        print(f\"\\033[94m Iteración: {i} \\033[0m\")\n",
        "        print(f\"\\033[92mEstación: ({nodo_actual.estacion}, ({certificados_actual}), {nodo_actual.costo:.2f})\\033[0m\")\n",
        "        print(f\"\\033[96mPath: {path[0:i+1]} - Costo Acc: {acc:.2f}\")\n",
        "        print(\"\\033[95mHijos: \", end=\"\")\n",
        "        for estacion in vecinos:\n",
        "            estacion_info = [est for est in estaciones if est[0] == estacion][0]\n",
        "            certificados = ', '.join([c[0] for c in estacion_info[1]])\n",
        "            if tipo_certificado in certificados:\n",
        "                found_next_node+=1\n",
        "            if found_next_node == 1:\n",
        "                print(f\"\\033[93m({estacion_info[0]}, ({certificados}), {estacion_info[2]:.2f}) \", end=\"\")\n",
        "            else:\n",
        "                print(f\"\\033[95m({estacion_info[0]}, ({certificados}), {estacion_info[2]:.2f}) \", end=\"\")\n",
        "        print(\"\\033[0m\")\n",
        "\n",
        "print(\"_______________________________ Solución para producto Sanitario _______________________________\")\n",
        "solucion_interactiva(dfs_path_sanitaria[0], \"s\")\n",
        "print(\"_______________________________ Solución para producto Temperatura _______________________________\")\n",
        "solucion_interactiva(dfs_path_temperatura[0], \"t\")"
      ]
    },
    {
      "cell_type": "markdown",
      "id": "3bb75207",
      "metadata": {
        "id": "3bb75207"
      },
      "source": [
        "# UCS"
      ]
    },
    {
      "cell_type": "code",
      "execution_count": 18,
      "id": "bddd19ae",
      "metadata": {
        "colab": {
          "base_uri": "https://localhost:8080/"
        },
        "id": "bddd19ae",
        "outputId": "c13aa26d-0efe-41e1-8f91-cce46512289b"
      },
      "outputs": [
        {
          "name": "stdout",
          "output_type": "stream",
          "text": [
            "_______________________________ Solución UCS para producto Sanitario _______________________________\n",
            "=============================\n",
            "\u001b[94m Iteración: 0 \u001b[0m\n",
            "\u001b[92mEstación: (E1, (t, s), 0.00)\u001b[0m\n",
            "\u001b[96mPath: ['E1'] - Costo Acc: 0.00\n",
            "\u001b[95mHijos: \u001b[95m(E2, (t), 12.40) \u001b[95m(E3, (t), 9.80) \u001b[95m(E4, (t), 14.20) \u001b[93m(E12, (s), 8.70) \u001b[95m(E13, (s), 11.30) \u001b[95m(E14, (s), 9.10) \u001b[0m\n",
            "=============================\n",
            "\u001b[94m Iteración: 1 \u001b[0m\n",
            "\u001b[92mEstación: (E14, (s), 9.10)\u001b[0m\n",
            "\u001b[96mPath: ['E1', 'E14'] - Costo Acc: 9.10\n",
            "\u001b[95mHijos: \u001b[93m(E19, (s), 8.30) \u001b[95m(E20, (s), 9.90) \u001b[95m(E16, (s), 10.80) \u001b[0m\n",
            "=============================\n",
            "\u001b[94m Iteración: 2 \u001b[0m\n",
            "\u001b[92mEstación: (E20, (s), 9.90)\u001b[0m\n",
            "\u001b[96mPath: ['E1', 'E14', 'E20'] - Costo Acc: 19.00\n",
            "\u001b[95mHijos: \u001b[93m(E21, (s), 7.20) \u001b[95m(E23, (t, s), 0.00) \u001b[0m\n",
            "_______________________________ Solución UCS para producto Temperatura _______________________________\n",
            "=============================\n",
            "\u001b[94m Iteración: 0 \u001b[0m\n",
            "\u001b[92mEstación: (E1, (t, s), 0.00)\u001b[0m\n",
            "\u001b[96mPath: ['E1'] - Costo Acc: 0.00\n",
            "\u001b[95mHijos: \u001b[93m(E2, (t), 12.40) \u001b[95m(E3, (t), 9.80) \u001b[95m(E4, (t), 14.20) \u001b[95m(E12, (s), 8.70) \u001b[95m(E13, (s), 11.30) \u001b[95m(E14, (s), 9.10) \u001b[0m\n",
            "=============================\n",
            "\u001b[94m Iteración: 1 \u001b[0m\n",
            "\u001b[92mEstación: (E3, (t), 9.80)\u001b[0m\n",
            "\u001b[96mPath: ['E1', 'E3'] - Costo Acc: 9.80\n",
            "\u001b[95mHijos: \u001b[93m(E7, (t), 13.10) \u001b[95m(E8, (t), 11.70) \u001b[95m(E5, (t), 10.50) \u001b[0m\n",
            "=============================\n",
            "\u001b[94m Iteración: 2 \u001b[0m\n",
            "\u001b[92mEstación: (E8, (t), 11.70)\u001b[0m\n",
            "\u001b[96mPath: ['E1', 'E3', 'E8'] - Costo Acc: 21.50\n",
            "\u001b[95mHijos: \u001b[93m(E10, (t), 14.80) \u001b[95m(E23, (t, s), 0.00) \u001b[0m\n"
          ]
        }
      ],
      "source": [
        "print(\"_______________________________ Solución UCS para producto Sanitario _______________________________\")\n",
        "if ucs_path_sanitaria:\n",
        "    solucion_interactiva(ucs_path_sanitaria[0], \"s\")\n",
        "print(\"_______________________________ Solución UCS para producto Temperatura _______________________________\")\n",
        "if ucs_path_temperatura:\n",
        "    solucion_interactiva(ucs_path_temperatura[0], \"t\")"
      ]
    },
    {
      "cell_type": "markdown",
      "id": "e79f3788",
      "metadata": {},
      "source": [
        "# BFS"
      ]
    },
    {
      "cell_type": "code",
      "execution_count": 19,
      "id": "hkvSdWABxftR",
      "metadata": {
        "colab": {
          "base_uri": "https://localhost:8080/"
        },
        "id": "hkvSdWABxftR",
        "outputId": "c2ec8942-0fd0-40c3-b76f-1ed5aa216301"
      },
      "outputs": [
        {
          "name": "stdout",
          "output_type": "stream",
          "text": [
            "_______________________________ Solución para producto Sanitario _______________________________\n",
            "=============================\n",
            "\u001b[94m Iteración: 0 \u001b[0m\n",
            "\u001b[92mEstación: (E1, (t, s), 0.00)\u001b[0m\n",
            "\u001b[96mPath: ['E1'] - Costo Acc: 0.00\n",
            "\u001b[95mHijos: \u001b[95m(E2, (t), 12.40) \u001b[95m(E3, (t), 9.80) \u001b[95m(E4, (t), 14.20) \u001b[93m(E12, (s), 8.70) \u001b[95m(E13, (s), 11.30) \u001b[95m(E14, (s), 9.10) \u001b[0m\n",
            "=============================\n",
            "\u001b[94m Iteración: 1 \u001b[0m\n",
            "\u001b[92mEstación: (E14, (s), 9.10)\u001b[0m\n",
            "\u001b[96mPath: ['E1', 'E14'] - Costo Acc: 9.10\n",
            "\u001b[95mHijos: \u001b[93m(E19, (s), 8.30) \u001b[95m(E20, (s), 9.90) \u001b[95m(E16, (s), 10.80) \u001b[0m\n",
            "=============================\n",
            "\u001b[94m Iteración: 2 \u001b[0m\n",
            "\u001b[92mEstación: (E20, (s), 9.90)\u001b[0m\n",
            "\u001b[96mPath: ['E1', 'E14', 'E20'] - Costo Acc: 19.00\n",
            "\u001b[95mHijos: \u001b[93m(E21, (s), 7.20) \u001b[95m(E23, (t, s), 0.00) \u001b[0m\n",
            "_______________________________ Solución para producto Temperatura _______________________________\n",
            "=============================\n",
            "\u001b[94m Iteración: 0 \u001b[0m\n",
            "\u001b[92mEstación: (E1, (t, s), 0.00)\u001b[0m\n",
            "\u001b[96mPath: ['E1'] - Costo Acc: 0.00\n",
            "\u001b[95mHijos: \u001b[93m(E2, (t), 12.40) \u001b[95m(E3, (t), 9.80) \u001b[95m(E4, (t), 14.20) \u001b[95m(E12, (s), 8.70) \u001b[95m(E13, (s), 11.30) \u001b[95m(E14, (s), 9.10) \u001b[0m\n",
            "=============================\n",
            "\u001b[94m Iteración: 1 \u001b[0m\n",
            "\u001b[92mEstación: (E3, (t), 9.80)\u001b[0m\n",
            "\u001b[96mPath: ['E1', 'E3'] - Costo Acc: 9.80\n",
            "\u001b[95mHijos: \u001b[93m(E7, (t), 13.10) \u001b[95m(E8, (t), 11.70) \u001b[95m(E5, (t), 10.50) \u001b[0m\n",
            "=============================\n",
            "\u001b[94m Iteración: 2 \u001b[0m\n",
            "\u001b[92mEstación: (E8, (t), 11.70)\u001b[0m\n",
            "\u001b[96mPath: ['E1', 'E3', 'E8'] - Costo Acc: 21.50\n",
            "\u001b[95mHijos: \u001b[93m(E10, (t), 14.80) \u001b[95m(E23, (t, s), 0.00) \u001b[0m\n"
          ]
        }
      ],
      "source": [
        "print(\"_______________________________ Solución para producto Sanitario _______________________________\")\n",
        "solucion_interactiva((camino_bfs_sanitaria, costo_bfs_sanitaria)[0], \"s\")\n",
        "print(\"_______________________________ Solución para producto Temperatura _______________________________\")\n",
        "solucion_interactiva((camino_bfs_temperatura, costo_bfs_temperatura)[0], \"t\")"
      ]
    },
    {
      "cell_type": "markdown",
      "id": "ea60b4f5",
      "metadata": {
        "id": "ea60b4f5"
      },
      "source": [
        "# 5. Experimentos Comparativos\n",
        "\n",
        "| Algoritmo | Resultados | Comentarios"
      ]
    },
    {
      "cell_type": "markdown",
      "id": "54443432",
      "metadata": {
        "id": "54443432"
      },
      "source": [
        "# 6. Análisis de Resultados\n",
        "\n",
        "El algoritmo DFS tuve un peor desempeño en cuanto a que el camino generado no es óptimo y es más caro que las soluciones entragadas por BFS y por UCS. Esto era lo esperable dado que DFS es un algoritmo no informado y que el problema es relativamente pequeño no trivial."
      ]
    }
  ],
  "metadata": {
    "colab": {
      "provenance": []
    },
    "kernelspec": {
      "display_name": ".venv",
      "language": "python",
      "name": "python3"
    },
    "language_info": {
      "codemirror_mode": {
        "name": "ipython",
        "version": 3
      },
      "file_extension": ".py",
      "mimetype": "text/x-python",
      "name": "python",
      "nbconvert_exporter": "python",
      "pygments_lexer": "ipython3",
      "version": "3.11.2"
    }
  },
  "nbformat": 4,
  "nbformat_minor": 5
}
